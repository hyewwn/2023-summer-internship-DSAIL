{
  "nbformat": 4,
  "nbformat_minor": 0,
  "metadata": {
    "colab": {
      "provenance": [],
      "machine_shape": "hm",
      "gpuType": "A100",
      "authorship_tag": "ABX9TyOP0riOwmhVhwX4lWrQ1Iaz",
      "include_colab_link": true
    },
    "kernelspec": {
      "name": "python3",
      "display_name": "Python 3"
    },
    "language_info": {
      "name": "python"
    }
  },
  "cells": [
    {
      "cell_type": "markdown",
      "metadata": {
        "id": "view-in-github",
        "colab_type": "text"
      },
      "source": [
        "<a href=\"https://colab.research.google.com/github/hyewwn/2023-summer-internship-DSAIL/blob/main/implicit_mf.ipynb\" target=\"_parent\"><img src=\"https://colab.research.google.com/assets/colab-badge.svg\" alt=\"Open In Colab\"/></a>"
      ]
    },
    {
      "cell_type": "markdown",
      "source": [
        "# Implicit matrix factorization model implementation"
      ],
      "metadata": {
        "id": "zbLZAGsHdWUj"
      }
    },
    {
      "cell_type": "markdown",
      "source": [
        "## package import & drive mount"
      ],
      "metadata": {
        "id": "f_YsTCdadbki"
      }
    },
    {
      "cell_type": "code",
      "execution_count": null,
      "metadata": {
        "colab": {
          "base_uri": "https://localhost:8080/"
        },
        "id": "HTCGGJc5c-NY",
        "outputId": "5e4c0510-d02b-4135-866a-f8b6de19cbcc"
      },
      "outputs": [
        {
          "output_type": "stream",
          "name": "stdout",
          "text": [
            "Mounted at /content/drive\n"
          ]
        }
      ],
      "source": [
        "from google.colab import drive\n",
        "drive.mount('/content/drive')"
      ]
    },
    {
      "cell_type": "code",
      "source": [
        "import pandas as pd\n",
        "import numpy as np\n",
        "from sklearn.model_selection import train_test_split\n",
        "import math\n",
        "from matplotlib import pyplot as plt\n",
        "import warnings\n",
        "warnings.filterwarnings('ignore')"
      ],
      "metadata": {
        "id": "wQta_fStd6vz"
      },
      "execution_count": null,
      "outputs": []
    },
    {
      "cell_type": "markdown",
      "source": [
        "## data loading and train, test split"
      ],
      "metadata": {
        "id": "Y4nk-UvseBnO"
      }
    },
    {
      "cell_type": "code",
      "source": [
        "path = '/content/drive/MyDrive/DSAIL/'\n",
        "file_name = 'preped_music_play.csv'"
      ],
      "metadata": {
        "id": "eLkuRl21eAFp"
      },
      "execution_count": null,
      "outputs": []
    },
    {
      "cell_type": "code",
      "source": [
        "# full data loading\n",
        "data = pd.read_csv(path+file_name).iloc[:,1:]"
      ],
      "metadata": {
        "id": "lOXhxtupeXk7"
      },
      "execution_count": null,
      "outputs": []
    },
    {
      "cell_type": "code",
      "source": [
        "data.head()"
      ],
      "metadata": {
        "colab": {
          "base_uri": "https://localhost:8080/",
          "height": 206
        },
        "id": "mdLFGzv8ef2F",
        "outputId": "6631f6b6-9a77-4538-bc90-3ea618557d51"
      },
      "execution_count": null,
      "outputs": [
        {
          "output_type": "execute_result",
          "data": {
            "text/plain": [
              "   userID         artistNM  plays\n",
              "0       1       bloc party   1677\n",
              "1       1        radiohead   1287\n",
              "2       1   the mars volta   1024\n",
              "3       1  at the drive-in    866\n",
              "4       1          misfits    642"
            ],
            "text/html": [
              "\n",
              "  <div id=\"df-53394d95-b7da-4b2e-bf2e-c7b9462a02ac\">\n",
              "    <div class=\"colab-df-container\">\n",
              "      <div>\n",
              "<style scoped>\n",
              "    .dataframe tbody tr th:only-of-type {\n",
              "        vertical-align: middle;\n",
              "    }\n",
              "\n",
              "    .dataframe tbody tr th {\n",
              "        vertical-align: top;\n",
              "    }\n",
              "\n",
              "    .dataframe thead th {\n",
              "        text-align: right;\n",
              "    }\n",
              "</style>\n",
              "<table border=\"1\" class=\"dataframe\">\n",
              "  <thead>\n",
              "    <tr style=\"text-align: right;\">\n",
              "      <th></th>\n",
              "      <th>userID</th>\n",
              "      <th>artistNM</th>\n",
              "      <th>plays</th>\n",
              "    </tr>\n",
              "  </thead>\n",
              "  <tbody>\n",
              "    <tr>\n",
              "      <th>0</th>\n",
              "      <td>1</td>\n",
              "      <td>bloc party</td>\n",
              "      <td>1677</td>\n",
              "    </tr>\n",
              "    <tr>\n",
              "      <th>1</th>\n",
              "      <td>1</td>\n",
              "      <td>radiohead</td>\n",
              "      <td>1287</td>\n",
              "    </tr>\n",
              "    <tr>\n",
              "      <th>2</th>\n",
              "      <td>1</td>\n",
              "      <td>the mars volta</td>\n",
              "      <td>1024</td>\n",
              "    </tr>\n",
              "    <tr>\n",
              "      <th>3</th>\n",
              "      <td>1</td>\n",
              "      <td>at the drive-in</td>\n",
              "      <td>866</td>\n",
              "    </tr>\n",
              "    <tr>\n",
              "      <th>4</th>\n",
              "      <td>1</td>\n",
              "      <td>misfits</td>\n",
              "      <td>642</td>\n",
              "    </tr>\n",
              "  </tbody>\n",
              "</table>\n",
              "</div>\n",
              "      <button class=\"colab-df-convert\" onclick=\"convertToInteractive('df-53394d95-b7da-4b2e-bf2e-c7b9462a02ac')\"\n",
              "              title=\"Convert this dataframe to an interactive table.\"\n",
              "              style=\"display:none;\">\n",
              "        \n",
              "  <svg xmlns=\"http://www.w3.org/2000/svg\" height=\"24px\"viewBox=\"0 0 24 24\"\n",
              "       width=\"24px\">\n",
              "    <path d=\"M0 0h24v24H0V0z\" fill=\"none\"/>\n",
              "    <path d=\"M18.56 5.44l.94 2.06.94-2.06 2.06-.94-2.06-.94-.94-2.06-.94 2.06-2.06.94zm-11 1L8.5 8.5l.94-2.06 2.06-.94-2.06-.94L8.5 2.5l-.94 2.06-2.06.94zm10 10l.94 2.06.94-2.06 2.06-.94-2.06-.94-.94-2.06-.94 2.06-2.06.94z\"/><path d=\"M17.41 7.96l-1.37-1.37c-.4-.4-.92-.59-1.43-.59-.52 0-1.04.2-1.43.59L10.3 9.45l-7.72 7.72c-.78.78-.78 2.05 0 2.83L4 21.41c.39.39.9.59 1.41.59.51 0 1.02-.2 1.41-.59l7.78-7.78 2.81-2.81c.8-.78.8-2.07 0-2.86zM5.41 20L4 18.59l7.72-7.72 1.47 1.35L5.41 20z\"/>\n",
              "  </svg>\n",
              "      </button>\n",
              "      \n",
              "  <style>\n",
              "    .colab-df-container {\n",
              "      display:flex;\n",
              "      flex-wrap:wrap;\n",
              "      gap: 12px;\n",
              "    }\n",
              "\n",
              "    .colab-df-convert {\n",
              "      background-color: #E8F0FE;\n",
              "      border: none;\n",
              "      border-radius: 50%;\n",
              "      cursor: pointer;\n",
              "      display: none;\n",
              "      fill: #1967D2;\n",
              "      height: 32px;\n",
              "      padding: 0 0 0 0;\n",
              "      width: 32px;\n",
              "    }\n",
              "\n",
              "    .colab-df-convert:hover {\n",
              "      background-color: #E2EBFA;\n",
              "      box-shadow: 0px 1px 2px rgba(60, 64, 67, 0.3), 0px 1px 3px 1px rgba(60, 64, 67, 0.15);\n",
              "      fill: #174EA6;\n",
              "    }\n",
              "\n",
              "    [theme=dark] .colab-df-convert {\n",
              "      background-color: #3B4455;\n",
              "      fill: #D2E3FC;\n",
              "    }\n",
              "\n",
              "    [theme=dark] .colab-df-convert:hover {\n",
              "      background-color: #434B5C;\n",
              "      box-shadow: 0px 1px 3px 1px rgba(0, 0, 0, 0.15);\n",
              "      filter: drop-shadow(0px 1px 2px rgba(0, 0, 0, 0.3));\n",
              "      fill: #FFFFFF;\n",
              "    }\n",
              "  </style>\n",
              "\n",
              "      <script>\n",
              "        const buttonEl =\n",
              "          document.querySelector('#df-53394d95-b7da-4b2e-bf2e-c7b9462a02ac button.colab-df-convert');\n",
              "        buttonEl.style.display =\n",
              "          google.colab.kernel.accessAllowed ? 'block' : 'none';\n",
              "\n",
              "        async function convertToInteractive(key) {\n",
              "          const element = document.querySelector('#df-53394d95-b7da-4b2e-bf2e-c7b9462a02ac');\n",
              "          const dataTable =\n",
              "            await google.colab.kernel.invokeFunction('convertToInteractive',\n",
              "                                                     [key], {});\n",
              "          if (!dataTable) return;\n",
              "\n",
              "          const docLinkHtml = 'Like what you see? Visit the ' +\n",
              "            '<a target=\"_blank\" href=https://colab.research.google.com/notebooks/data_table.ipynb>data table notebook</a>'\n",
              "            + ' to learn more about interactive tables.';\n",
              "          element.innerHTML = '';\n",
              "          dataTable['output_type'] = 'display_data';\n",
              "          await google.colab.output.renderOutput(dataTable, element);\n",
              "          const docLink = document.createElement('div');\n",
              "          docLink.innerHTML = docLinkHtml;\n",
              "          element.appendChild(docLink);\n",
              "        }\n",
              "      </script>\n",
              "    </div>\n",
              "  </div>\n",
              "  "
            ]
          },
          "metadata": {},
          "execution_count": 6
        }
      ]
    },
    {
      "cell_type": "code",
      "source": [
        "data.nunique()"
      ],
      "metadata": {
        "colab": {
          "base_uri": "https://localhost:8080/"
        },
        "id": "2iBC-_qUehM3",
        "outputId": "1e294ad1-5eb3-4f9b-ae3f-85aaf243f0a4"
      },
      "execution_count": null,
      "outputs": [
        {
          "output_type": "execute_result",
          "data": {
            "text/plain": [
              "userID       100\n",
              "artistNM    7257\n",
              "plays        792\n",
              "dtype: int64"
            ]
          },
          "metadata": {},
          "execution_count": 7
        }
      ]
    },
    {
      "cell_type": "code",
      "source": [
        "# 각 userID 별로 행 인덱스를 그룹화하여 리스트로 저장\n",
        "grouped_indices = data.groupby('userID').groups.values()\n",
        "\n",
        "# 각 그룹의 행 인덱스를 80:20 비율로 분할하여 train과 test indices 구성\n",
        "train_indices = []\n",
        "test_indices = []\n",
        "for i, indices in enumerate(grouped_indices):\n",
        "    train_group_indices, test_group_indices = train_test_split(indices, test_size=0.2, random_state=42)\n",
        "    train_indices.extend(train_group_indices)\n",
        "    test_indices.extend(test_group_indices)\n",
        "\n",
        "# train_df와 test_df 생성\n",
        "train_df = data.loc[train_indices]\n",
        "test_df = data.loc[test_indices]\n",
        "\n",
        "print(\"Train DataFrame:\")\n",
        "print(train_df.shape)\n",
        "print(\"Test DataFrame:\")\n",
        "print(test_df.shape)"
      ],
      "metadata": {
        "colab": {
          "base_uri": "https://localhost:8080/"
        },
        "id": "kMS-581KekEo",
        "outputId": "c045c36f-2855-4814-b6ac-eff8e2714a98"
      },
      "execution_count": null,
      "outputs": [
        {
          "output_type": "stream",
          "name": "stdout",
          "text": [
            "Train DataFrame:\n",
            "(8856, 3)\n",
            "Test DataFrame:\n",
            "(2269, 3)\n"
          ]
        }
      ]
    },
    {
      "cell_type": "markdown",
      "source": [
        "## setting"
      ],
      "metadata": {
        "id": "TGlFQJ6lerRb"
      }
    },
    {
      "cell_type": "code",
      "source": [
        "lambda_ = 150\n",
        "alpha_ = 40\n",
        "epsilon_ = 10**(-8)\n",
        "n_factor = 100"
      ],
      "metadata": {
        "id": "yAz1ClbfeoDi"
      },
      "execution_count": null,
      "outputs": []
    },
    {
      "cell_type": "markdown",
      "source": [
        "### matrix creation function"
      ],
      "metadata": {
        "id": "ceraEAyGezNm"
      }
    },
    {
      "cell_type": "code",
      "source": [
        "# R matrix (observation matrix)\n",
        "\n",
        "def create_R_matrix(df, train_set):\n",
        "    # 모든 고유한 userID와 artistNM을 추출\n",
        "    all_userIDs = np.unique((df['userID'].unique()))\n",
        "    all_artistNMs = np.unique((df['artistNM'].unique()))\n",
        "\n",
        "    # 행렬 초기화\n",
        "    plays_matrix = pd.DataFrame(0, index=all_userIDs, columns=all_artistNMs)\n",
        "\n",
        "    # train set에 있는 데이터로 행렬 채우기\n",
        "    for _, row in train_set.iterrows():\n",
        "        userID = row['userID']\n",
        "        artistNM = row['artistNM']\n",
        "        plays = row['plays']\n",
        "        plays_matrix.loc[userID, artistNM] = plays\n",
        "\n",
        "    return plays_matrix"
      ],
      "metadata": {
        "id": "BdbNiO-Seu8Z"
      },
      "execution_count": null,
      "outputs": []
    },
    {
      "cell_type": "code",
      "source": [
        "# P_matrix (preference)\n",
        "def create_P_matrix(R_matrix):\n",
        "    P_matrix = np.copy(R_matrix)\n",
        "    P_matrix[R_matrix>0] = 1\n",
        "    return P_matrix"
      ],
      "metadata": {
        "id": "ThZFw-7me_eP"
      },
      "execution_count": null,
      "outputs": []
    },
    {
      "cell_type": "code",
      "source": [
        "# C matrix (confidence)\n",
        "def create_C_matrix(R_matrix):\n",
        "    C_matrix = 1 + alpha_*np.log(1+R_matrix/epsilon_)\n",
        "    C_matrix = np.array(C_matrix)\n",
        "    return C_matrix"
      ],
      "metadata": {
        "id": "Z8OtFDwNfBeU"
      },
      "execution_count": null,
      "outputs": []
    },
    {
      "cell_type": "markdown",
      "source": [
        "### matrix creation and initialization"
      ],
      "metadata": {
        "id": "n-UYjN1cfIOM"
      }
    },
    {
      "cell_type": "code",
      "source": [
        "# create_R_matrix 함수 실행\n",
        "R_matrix = create_R_matrix(data, train_df)\n",
        "print(R_matrix.shape)"
      ],
      "metadata": {
        "colab": {
          "base_uri": "https://localhost:8080/"
        },
        "id": "G0TrY7FxfDfS",
        "outputId": "6af57fff-0bfb-4d77-a1b1-5a9a40658be9"
      },
      "execution_count": null,
      "outputs": [
        {
          "output_type": "stream",
          "name": "stdout",
          "text": [
            "(100, 7257)\n"
          ]
        }
      ]
    },
    {
      "cell_type": "code",
      "source": [
        "# create_P_matrix 함수 실행\n",
        "P_matrix = create_P_matrix(R_matrix)\n",
        "print(P_matrix.shape)"
      ],
      "metadata": {
        "colab": {
          "base_uri": "https://localhost:8080/"
        },
        "id": "77et963lfNnm",
        "outputId": "0470004e-0746-4046-93e6-de442cd19551"
      },
      "execution_count": null,
      "outputs": [
        {
          "output_type": "stream",
          "name": "stdout",
          "text": [
            "[[0 0 0 ... 0 0 0]\n",
            " [0 0 0 ... 0 0 0]\n",
            " [0 0 0 ... 0 0 0]\n",
            " ...\n",
            " [0 0 0 ... 0 0 0]\n",
            " [0 0 0 ... 0 0 0]\n",
            " [0 0 0 ... 0 0 0]]\n",
            "(100, 7257)\n"
          ]
        }
      ]
    },
    {
      "cell_type": "code",
      "source": [
        "# create_C_matrix 함수 실행\n",
        "C_matrix = create_C_matrix(R_matrix)\n",
        "print(C_matrix.shape)"
      ],
      "metadata": {
        "colab": {
          "base_uri": "https://localhost:8080/"
        },
        "id": "50TNg08YfVLN",
        "outputId": "13d2621c-b2a9-4401-b967-a95567d0676e"
      },
      "execution_count": null,
      "outputs": [
        {
          "output_type": "stream",
          "name": "stdout",
          "text": [
            "[[1. 1. 1. ... 1. 1. 1.]\n",
            " [1. 1. 1. ... 1. 1. 1.]\n",
            " [1. 1. 1. ... 1. 1. 1.]\n",
            " ...\n",
            " [1. 1. 1. ... 1. 1. 1.]\n",
            " [1. 1. 1. ... 1. 1. 1.]\n",
            " [1. 1. 1. ... 1. 1. 1.]]\n",
            "(100, 7257)\n"
          ]
        }
      ]
    },
    {
      "cell_type": "code",
      "source": [
        "# number of user and item\n",
        "m = R_matrix.shape[0]\n",
        "n = R_matrix.shape[1]\n",
        "\n",
        "# user-factor matrix initialize\n",
        "X = np.random.rand(m, n_factor) * 0.01\n",
        "print(X.shape)\n",
        "\n",
        "# item-factor matrix initialize\n",
        "Y = np.random.rand(n, n_factor) * 0.01\n",
        "print(Y.shape)"
      ],
      "metadata": {
        "colab": {
          "base_uri": "https://localhost:8080/"
        },
        "id": "spYRRTvufYCG",
        "outputId": "0eb7c759-4725-4d29-aec5-7f0bbacd9e1a"
      },
      "execution_count": null,
      "outputs": [
        {
          "output_type": "stream",
          "name": "stdout",
          "text": [
            "(100, 100)\n",
            "(7257, 100)\n"
          ]
        }
      ]
    },
    {
      "cell_type": "markdown",
      "source": [
        "## Loss function"
      ],
      "metadata": {
        "id": "z1WE-RJCfcuB"
      }
    },
    {
      "cell_type": "code",
      "source": [
        "def loss_function(C, P, pred, X, Y, lambda_):\n",
        "    predict_error = np.square(P-pred)\n",
        "    confidence_error = np.sum(C*predict_error)\n",
        "    regularization_error = lambda_*(np.sum(np.square(X))+np.sum(np.square(Y)))\n",
        "    total_loss = confidence_error + regularization_error\n",
        "    return np.sum(predict_error), confidence_error, regularization_error, total_loss"
      ],
      "metadata": {
        "id": "yCZ0K3rdfbCi"
      },
      "execution_count": null,
      "outputs": []
    },
    {
      "cell_type": "markdown",
      "source": [
        "## Optimizer (ALS algorithm)"
      ],
      "metadata": {
        "id": "FtpflPWCfgqv"
      }
    },
    {
      "cell_type": "code",
      "source": [
        "def user_optimization(X, Y, C_matrix, P_matrix, m, n, n_factor, lambda_):\n",
        "    yT = np.transpose(Y)\n",
        "    yTy = np.matmul(yT, Y)\n",
        "    for user in range(m):\n",
        "        Cu = np.diag(C_matrix[user])\n",
        "        yT_Cu_y = yTy + np.matmul(np.matmul(yT, Cu - np.identity(n)),Y)\n",
        "        lambda_I = lambda_ * np.identity(n_factor)\n",
        "        yT_Cu_pu = np.matmul(np.matmul(yT,Cu), np.transpose(P_matrix[user]))\n",
        "        X[user] = np.linalg.solve(yT_Cu_y+lambda_I, yT_Cu_pu)"
      ],
      "metadata": {
        "id": "OMZm29UrffiF"
      },
      "execution_count": null,
      "outputs": []
    },
    {
      "cell_type": "code",
      "source": [
        "def item_optimization(X, Y, C_matrix, P_matrix, m, n, n_factor, lambda_):\n",
        "    xT = np.transpose(X)\n",
        "    xTx = np.matmul(xT, X)\n",
        "    for item in range(n):\n",
        "        Ci = np.diag(C_matrix[:,item])\n",
        "        xT_Ci_x = xTx + np.matmul(np.matmul(xT, Ci - np.identity(m)),X)\n",
        "        lambda_I = lambda_ * np.identity(n_factor)\n",
        "        xT_Ci_pi = np.matmul(np.matmul(xT,Ci), np.transpose(P_matrix[:,item]))\n",
        "        Y[item] = np.linalg.solve(xT_Ci_x+lambda_I, xT_Ci_pi)"
      ],
      "metadata": {
        "id": "pqDPu1uNflv3"
      },
      "execution_count": null,
      "outputs": []
    },
    {
      "cell_type": "markdown",
      "source": [
        "## Train function"
      ],
      "metadata": {
        "id": "2SVwtV9afvPh"
      }
    },
    {
      "cell_type": "code",
      "source": [
        "n_iter = 10"
      ],
      "metadata": {
        "id": "mwV6xq6cfnT6"
      },
      "execution_count": null,
      "outputs": []
    },
    {
      "cell_type": "code",
      "source": [
        "def train(n_iter,X, Y, C_matrix, P_matrix, m, n, n_factor, lambda_):\n",
        "    # result save\n",
        "    predict_errors = []\n",
        "    confidence_errors = []\n",
        "    regularization_list = []\n",
        "    total_losses = []\n",
        "\n",
        "    for i in range(n_iter):\n",
        "        print(f'processing on {i+1}th iteration')\n",
        "        if i != 0:\n",
        "            user_optimization(X, Y, C_matrix, P_matrix, m, n, n_factor, lambda_)\n",
        "            item_optimization(X, Y, C_matrix, P_matrix, m, n, n_factor, lambda_)\n",
        "\n",
        "        predict = np.matmul(X, np.transpose(Y))\n",
        "\n",
        "        predict_error, confidence_error, regularization, total_loss = loss_function(C_matrix, P_matrix, predict, X, Y, lambda_)\n",
        "\n",
        "        predict_errors.append(predict_error)\n",
        "        confidence_errors.append(confidence_error)\n",
        "        regularization_list.append(regularization)\n",
        "        total_losses.append(total_loss)\n",
        "\n",
        "        print(f'{i+1}th iteration is done')\n",
        "\n",
        "    fin_predict = np.matmul(X, np.transpose(Y))\n",
        "    print('final predict')\n",
        "    print([fin_predict])\n",
        "    return fin_predict, predict_errors, confidence_errors, regularization_list, total_losses\n"
      ],
      "metadata": {
        "id": "LDY6NvgCfxUl"
      },
      "execution_count": null,
      "outputs": []
    },
    {
      "cell_type": "code",
      "source": [
        "train_pred, predict_errors, confident_errors, regularization_list, total_losses = train(n_iter,X, Y, C_matrix, P_matrix, m, n, n_factor, lambda_)"
      ],
      "metadata": {
        "id": "PODWjfknf4BW"
      },
      "execution_count": null,
      "outputs": []
    },
    {
      "cell_type": "markdown",
      "source": [
        "## Training Results\n",
        "predict_errors, confident_errors, regularization_list, total_losses"
      ],
      "metadata": {
        "id": "4H6j7rxpqOJf"
      }
    },
    {
      "cell_type": "code",
      "source": [
        "# predict_errors\n",
        "x_axis = np.arange(1,11)\n",
        "y_axis = predict_errors\n",
        "plt.plot(x_axis, y_axis)\n",
        "plt.xticks([i for i in range(1,11)])\n",
        "plt.xlabel(\"iteration\")\n",
        "plt.title(\"predict error\")\n",
        "plt.show()"
      ],
      "metadata": {
        "id": "8DTxRsVphkF4"
      },
      "execution_count": null,
      "outputs": []
    },
    {
      "cell_type": "code",
      "source": [
        "# confident_errors\n",
        "x_axis = np.arange(1,11)\n",
        "y_axis = confident_errors\n",
        "plt.plot(x_axis, y_axis)\n",
        "plt.xlabel(\"iteration\")\n",
        "plt.title(\"confidence error\")\n",
        "plt.show()"
      ],
      "metadata": {
        "colab": {
          "base_uri": "https://localhost:8080/",
          "height": 472
        },
        "id": "65T1SuNurNlP",
        "outputId": "9309ba2a-c8ee-43ca-94ca-c507d17e2c90"
      },
      "execution_count": null,
      "outputs": [
        {
          "output_type": "display_data",
          "data": {
            "text/plain": [
              "<Figure size 640x480 with 1 Axes>"
            ],
            "image/png": "[encoded data removed]"
          },
          "metadata": {}
        }
      ]
    },
    {
      "cell_type": "code",
      "source": [
        "# regularization_list\n",
        "x_axis = np.arange(1,11)\n",
        "y_axis = regularization_list\n",
        "plt.plot(x_axis, y_axis)\n",
        "plt.xlabel(\"iteration\")\n",
        "plt.title(\"regularization term\")\n",
        "plt.show()"
      ],
      "metadata": {
        "colab": {
          "base_uri": "https://localhost:8080/",
          "height": 472
        },
        "id": "aoAUCmmdrZJ5",
        "outputId": "551e731b-115e-4a5a-cee6-d3cd1de1a917"
      },
      "execution_count": null,
      "outputs": [
        {
          "output_type": "display_data",
          "data": {
            "text/plain": [
              "<Figure size 640x480 with 1 Axes>"
            ],
            "image/png": "[encoded data removed]"
          },
          "metadata": {}
        }
      ]
    },
    {
      "cell_type": "code",
      "source": [
        "# total_losses\n",
        "x_axis = np.arange(1,11)\n",
        "y_axis = total_losses\n",
        "plt.plot(x_axis, y_axis)\n",
        "plt.xlabel(\"iteration\")\n",
        "plt.title(\"total loss\")\n",
        "plt.show()"
      ],
      "metadata": {
        "colab": {
          "base_uri": "https://localhost:8080/",
          "height": 472
        },
        "id": "UqTww1KfriIw",
        "outputId": "1c3954c4-698a-4964-d68d-2fd4410c65b9"
      },
      "execution_count": null,
      "outputs": [
        {
          "output_type": "display_data",
          "data": {
            "text/plain": [
              "<Figure size 640x480 with 1 Axes>"
            ],
            "image/png": "[encoded data removed]"
          },
          "metadata": {}
        }
      ]
    },
    {
      "cell_type": "markdown",
      "source": [
        "## Test set Evaluation"
      ],
      "metadata": {
        "id": "nIgy6XnrsFbq"
      }
    },
    {
      "cell_type": "code",
      "source": [
        "final_predict_df = pd.DataFrame(train_pred)"
      ],
      "metadata": {
        "id": "z6cn2kE4uY4b"
      },
      "execution_count": null,
      "outputs": []
    },
    {
      "cell_type": "code",
      "source": [
        "all_userIDs = np.unique((data['userID'].unique()))\n",
        "all_artistNMs = np.unique((data['artistNM'].unique()))\n",
        "\n",
        "final_predict_df.index = all_userIDs\n",
        "final_predict_df.columns = all_artistNMs"
      ],
      "metadata": {
        "id": "QUqY7W1qwhBq"
      },
      "execution_count": null,
      "outputs": []
    },
    {
      "cell_type": "markdown",
      "source": [
        "## calculate expected percentile ranking"
      ],
      "metadata": {
        "id": "P2XJEqDSAiPn"
      }
    },
    {
      "cell_type": "code",
      "source": [
        "def calculate_percentile_ranks(input_list):\n",
        "    sorted_values = sorted(input_list)\n",
        "    ranks = [1 - (sorted_values.index(value) / (len(sorted_values) - 1)) for value in input_list]\n",
        "    return ranks"
      ],
      "metadata": {
        "id": "imnvxmcmE1O-"
      },
      "execution_count": null,
      "outputs": []
    },
    {
      "cell_type": "code",
      "source": [
        "def calculate_rank(predict_df, R_matrix, train_set, test_set):\n",
        "\n",
        "  # 1. predict_df에서 0.5 미만 값을 갖는 경우 모두 0으로 변환\n",
        "  predict_df[predict_df < 0.5] = 0\n",
        "\n",
        "  # 2. rank_matrix 구성 (size는 predict_df와 동일)\n",
        "  rank_matrix = predict_df.copy()\n",
        "\n",
        "  # predict_df에서 train에 포함된 데이터의 경우 값을 모두 0으로 처리\n",
        "  train_indices = [(row, col) for row, col in train_set[['userID', 'artistNM']].values]\n",
        "  rank_matrix[train_indices] = 0\n",
        "\n",
        "  # user(row)별로 값이 0이 아닌 데이터들에 대해 percentile rank를 계산하여 값 변환\n",
        "  for row in rank_matrix.index:\n",
        "    nonzero_indices = rank_matrix.columns[rank_matrix.loc[row] != 0].tolist()\n",
        "    if len(nonzero_indices) > 0:\n",
        "      tmp_col_list = rank_matrix.loc[row, nonzero_indices].tolist()\n",
        "      tmp_qua_list = calculate_percentile_ranks(tmp_col_list)\n",
        "      rank_matrix.loc[row, nonzero_indices] = np.array(tmp_qua_list)\n",
        "\n",
        "  # 3. R_test_matrix 구성\n",
        "  R_test_matrix = R_matrix.copy()\n",
        "\n",
        "  # R_matrix에서 train에 포함된 데이터의 경우 값을 모두 0으로 처리\n",
        "  train_indices = [(row, col) for row, col in train_set[['userID', 'artistNM']].values]\n",
        "  R_test_matrix[train_indices] = 0\n",
        "\n",
        "  # 4. rank_bar 계산 (expected percentile ranking)\n",
        "  rt = np.array(R_test_matrix)\n",
        "  rank = np.array(rank_matrix)\n",
        "  rt_rank = rt*rank\n",
        "  numerator = np.sum(rt_rank)\n",
        "  denominator = np.sum(rt)\n",
        "  rank_bar = numerator/denominator\n",
        "  print(rank_bar)\n",
        "  return rank_bar"
      ],
      "metadata": {
        "id": "BXRFM45zurs1"
      },
      "execution_count": null,
      "outputs": []
    },
    {
      "cell_type": "code",
      "source": [
        "rank_bar = calculate_rank(final_predict_df, R_matrix, train_df, test_df)"
      ],
      "metadata": {
        "colab": {
          "base_uri": "https://localhost:8080/"
        },
        "id": "n9DTCna48Zjk",
        "outputId": "bce2e805-4a22-4e37-ae00-c8957f413a0c"
      },
      "execution_count": null,
      "outputs": [
        {
          "output_type": "stream",
          "name": "stdout",
          "text": [
            "0.26784734475039357\n"
          ]
        }
      ]
    },
    {
      "cell_type": "markdown",
      "source": [
        "## Experiment"
      ],
      "metadata": {
        "id": "o-kx_88gAy40"
      }
    },
    {
      "cell_type": "code",
      "source": [
        "lambda_ = 150\n",
        "alpha_ = 40\n",
        "epsilon_ = 10**(-8)\n",
        "n_factor = 100"
      ],
      "metadata": {
        "id": "cmp54gVxD-uz"
      },
      "execution_count": null,
      "outputs": []
    },
    {
      "cell_type": "code",
      "source": [
        "def experiment(data, train_df, test_df, n_factor, n_iter, lambda_=150, alpha_=40, epsilon_=10**(-8)):\n",
        "  # matrix creation\n",
        "  R_matrix = create_R_matrix(data, train_df)\n",
        "  P_matrix = create_P_matrix(R_matrix)\n",
        "  C_matrix = create_C_matrix(R_matrix)\n",
        "\n",
        "  # number of user and item\n",
        "  m = R_matrix.shape[0]\n",
        "  n = R_matrix.shape[1]\n",
        "  # user-factor matrix initialize\n",
        "  X = np.random.rand(m, n_factor) * 0.01\n",
        "  # item-factor matrix initialize\n",
        "  Y = np.random.rand(n, n_factor) * 0.01\n",
        "\n",
        "  # training\n",
        "  train_pred, predict_errors, confident_errors, regularization_list, total_losses = train(n_iter,X, Y, C_matrix, P_matrix, m, n, n_factor, lambda_)\n",
        "\n",
        "  # training results\n",
        "  final_predict_df = pd.DataFrame(train_pred)\n",
        "  all_userIDs = np.unique((data['userID'].unique()))\n",
        "  all_artistNMs = np.unique((data['artistNM'].unique()))\n",
        "  final_predict_df.index = all_userIDs\n",
        "  final_predict_df.columns = all_artistNMs\n",
        "\n",
        "  # test results\n",
        "  rank_bar = calculate_rank(final_predict_df, R_matrix, train_df, test_df)\n",
        "\n",
        "  return final_predict_df, predict_errors, confident_errors, regularization_list, total_losses, rank_bar\n"
      ],
      "metadata": {
        "id": "BKWaih_LBgwU"
      },
      "execution_count": null,
      "outputs": []
    },
    {
      "cell_type": "markdown",
      "source": [
        "### Experiment1: change number of factors"
      ],
      "metadata": {
        "id": "kg2yjZNwA1sb"
      }
    },
    {
      "cell_type": "code",
      "source": [
        "factor_list = [i for i in range(20,201,20)]\n",
        "print(factor_list)"
      ],
      "metadata": {
        "id": "EAMF3j9uPKKb",
        "colab": {
          "base_uri": "https://localhost:8080/"
        },
        "outputId": "e9cd998d-57c7-440c-9ccc-e3dc3df1e05c"
      },
      "execution_count": null,
      "outputs": [
        {
          "output_type": "stream",
          "name": "stdout",
          "text": [
            "[20, 40, 60, 80, 100, 120, 140, 160, 180, 200]\n"
          ]
        }
      ]
    },
    {
      "cell_type": "code",
      "source": [
        "# 결과 저장용 list 생성\n",
        "rank_bar_factors = []"
      ],
      "metadata": {
        "id": "KDV-hBGoHAZH"
      },
      "execution_count": null,
      "outputs": []
    },
    {
      "cell_type": "code",
      "source": [
        "for i in range(10):\n",
        "  n_factor = factor_list[i]\n",
        "  tmp_final_predict_df, tmp_predict_errors, tmp_confident_errors, tmp_regularization_list, tmp_total_losses, tmp_rank_bar = experiment(data, train_df, test_df, n_factor, n_iter=10, lambda_=150, alpha_=40, epsilon_=10**(-8))\n",
        "  globals()['final_predict_df_{}'.format(i)] = tmp_final_predict_df\n",
        "  globals()['predict_errors_{}'.format(i)] = tmp_predict_errors\n",
        "  globals()['confident_errors_{}'.format(i)] = tmp_confident_errors\n",
        "  globals()['regularization_list_{}'.format(i)] = tmp_regularization_list\n",
        "  globals()['total_losses_{}'.format(i)] = tmp_total_losses\n",
        "  globals()['rank_bar_{}'.format(i)] = tmp_rank_bar\n",
        "\n",
        "  # rank_bar는 따로 저장\n",
        "  rank_bar_factors.append(tmp_rank_bar)\n",
        "\n",
        "  print(f'-----------{i+1}th iteration is done-------------')"
      ],
      "metadata": {
        "colab": {
          "base_uri": "https://localhost:8080/"
        },
        "id": "WltGW8vkHMzC",
        "outputId": "25b66439-acd0-4f09-8dd2-c18e44b8184c"
      },
      "execution_count": null,
      "outputs": [
        {
          "output_type": "stream",
          "name": "stdout",
          "text": [
            "processing on 1th iteration\n",
            "1th iteration is done\n",
            "processing on 2th iteration\n",
            "2th iteration is done\n",
            "processing on 3th iteration\n",
            "3th iteration is done\n",
            "processing on 4th iteration\n",
            "4th iteration is done\n",
            "processing on 5th iteration\n",
            "5th iteration is done\n",
            "processing on 6th iteration\n",
            "6th iteration is done\n",
            "processing on 7th iteration\n",
            "7th iteration is done\n",
            "processing on 8th iteration\n",
            "8th iteration is done\n",
            "processing on 9th iteration\n",
            "9th iteration is done\n",
            "processing on 10th iteration\n",
            "10th iteration is done\n",
            "final predict\n",
            "[array([[ 1.04007056,  0.09602621, -0.00541847, ...,  0.        ,\n",
            "        -0.2258952 ,  0.        ],\n",
            "       [ 0.41545324,  0.02212591, -0.14241127, ...,  0.        ,\n",
            "         0.19153022,  0.        ],\n",
            "       [ 0.39895165, -0.02985879,  0.01162843, ...,  0.        ,\n",
            "        -0.18751178,  0.        ],\n",
            "       ...,\n",
            "       [-0.18510184,  0.26710479, -0.17167623, ...,  0.        ,\n",
            "        -0.09909377,  0.        ],\n",
            "       [ 0.51136124, -0.10289595,  0.28433269, ...,  0.        ,\n",
            "         0.0627916 ,  0.        ],\n",
            "       [-0.03700725,  0.09870364,  0.1054901 , ...,  0.        ,\n",
            "         0.07396216,  0.        ]])]\n",
            "0.1323974836227368\n",
            "1th iteration is done\n",
            "processing on 1th iteration\n",
            "1th iteration is done\n",
            "processing on 2th iteration\n",
            "2th iteration is done\n",
            "processing on 3th iteration\n",
            "3th iteration is done\n",
            "processing on 4th iteration\n",
            "4th iteration is done\n",
            "processing on 5th iteration\n",
            "5th iteration is done\n",
            "processing on 6th iteration\n",
            "6th iteration is done\n",
            "processing on 7th iteration\n",
            "7th iteration is done\n",
            "processing on 8th iteration\n",
            "8th iteration is done\n",
            "processing on 9th iteration\n",
            "9th iteration is done\n",
            "processing on 10th iteration\n",
            "10th iteration is done\n",
            "final predict\n",
            "[array([[ 7.07483451e-01,  1.66757884e-01,  1.09803635e-01, ...,\n",
            "         0.00000000e+00, -1.68237392e-01,  0.00000000e+00],\n",
            "       [ 3.24552758e-01,  6.92638553e-02, -3.93564518e-02, ...,\n",
            "         0.00000000e+00,  2.61743588e-01,  0.00000000e+00],\n",
            "       [-1.20005559e-02, -3.00805387e-01, -9.50580778e-03, ...,\n",
            "         0.00000000e+00, -7.55408253e-02,  0.00000000e+00],\n",
            "       ...,\n",
            "       [ 5.04518992e-02, -1.37164609e-01, -6.14486411e-02, ...,\n",
            "         0.00000000e+00, -4.88802054e-03,  0.00000000e+00],\n",
            "       [ 2.79540018e-01, -4.15635639e-02,  1.41119716e-01, ...,\n",
            "         0.00000000e+00, -3.10071933e-04,  0.00000000e+00],\n",
            "       [-2.23917156e-02, -5.75360432e-02, -2.18657090e-02, ...,\n",
            "         0.00000000e+00,  1.76259399e-01,  0.00000000e+00]])]\n",
            "0.21828247670752926\n",
            "2th iteration is done\n",
            "processing on 1th iteration\n",
            "1th iteration is done\n",
            "processing on 2th iteration\n",
            "2th iteration is done\n",
            "processing on 3th iteration\n",
            "3th iteration is done\n",
            "processing on 4th iteration\n",
            "4th iteration is done\n",
            "processing on 5th iteration\n",
            "5th iteration is done\n",
            "processing on 6th iteration\n",
            "6th iteration is done\n",
            "processing on 7th iteration\n",
            "7th iteration is done\n",
            "processing on 8th iteration\n",
            "8th iteration is done\n",
            "processing on 9th iteration\n",
            "9th iteration is done\n",
            "processing on 10th iteration\n",
            "10th iteration is done\n",
            "final predict\n",
            "[array([[ 0.70152081,  0.13785108,  0.0796667 , ...,  0.        ,\n",
            "        -0.0658307 ,  0.        ],\n",
            "       [ 0.14379703,  0.04896739, -0.0336283 , ...,  0.        ,\n",
            "         0.15978223,  0.        ],\n",
            "       [ 0.21522151, -0.01241456, -0.00143486, ...,  0.        ,\n",
            "        -0.01899064,  0.        ],\n",
            "       ...,\n",
            "       [-0.02709487, -0.03476176, -0.0219184 , ...,  0.        ,\n",
            "        -0.01883105,  0.        ],\n",
            "       [ 0.41233967,  0.04153373,  0.12776069, ...,  0.        ,\n",
            "         0.05835512,  0.        ],\n",
            "       [ 0.003253  ,  0.05093072, -0.04191573, ...,  0.        ,\n",
            "         0.05079015,  0.        ]])]\n",
            "0.25044777206322955\n",
            "3th iteration is done\n",
            "processing on 1th iteration\n",
            "1th iteration is done\n",
            "processing on 2th iteration\n",
            "2th iteration is done\n",
            "processing on 3th iteration\n",
            "3th iteration is done\n",
            "processing on 4th iteration\n",
            "4th iteration is done\n",
            "processing on 5th iteration\n",
            "5th iteration is done\n",
            "processing on 6th iteration\n",
            "6th iteration is done\n",
            "processing on 7th iteration\n",
            "7th iteration is done\n",
            "processing on 8th iteration\n",
            "8th iteration is done\n",
            "processing on 9th iteration\n",
            "9th iteration is done\n",
            "processing on 10th iteration\n",
            "10th iteration is done\n",
            "final predict\n",
            "[array([[ 6.28815031e-01,  7.41409889e-02,  7.33988250e-02, ...,\n",
            "         0.00000000e+00, -8.18045354e-02,  0.00000000e+00],\n",
            "       [ 8.08570017e-02,  9.75177813e-02,  2.46330514e-02, ...,\n",
            "         0.00000000e+00,  1.31744093e-01,  0.00000000e+00],\n",
            "       [ 1.00110211e-01,  2.88676606e-02, -1.55345574e-02, ...,\n",
            "         0.00000000e+00,  7.13285978e-03,  0.00000000e+00],\n",
            "       ...,\n",
            "       [ 4.59884551e-02, -2.27205698e-02, -8.98157749e-03, ...,\n",
            "         0.00000000e+00,  2.58179449e-03,  0.00000000e+00],\n",
            "       [ 3.23938390e-01,  4.96494949e-02,  9.04735675e-02, ...,\n",
            "         0.00000000e+00,  4.21338650e-02,  0.00000000e+00],\n",
            "       [ 2.84664970e-04,  9.76690815e-02, -1.37414762e-02, ...,\n",
            "         0.00000000e+00,  1.02067264e-01,  0.00000000e+00]])]\n",
            "0.2659941166772065\n",
            "4th iteration is done\n",
            "processing on 1th iteration\n",
            "1th iteration is done\n",
            "processing on 2th iteration\n",
            "2th iteration is done\n",
            "processing on 3th iteration\n",
            "3th iteration is done\n",
            "processing on 4th iteration\n",
            "4th iteration is done\n",
            "processing on 5th iteration\n",
            "5th iteration is done\n",
            "processing on 6th iteration\n",
            "6th iteration is done\n",
            "processing on 7th iteration\n",
            "7th iteration is done\n",
            "processing on 8th iteration\n",
            "8th iteration is done\n",
            "processing on 9th iteration\n",
            "9th iteration is done\n",
            "processing on 10th iteration\n",
            "10th iteration is done\n",
            "final predict\n",
            "[array([[ 0.69384861,  0.14629073,  0.08946889, ...,  0.        ,\n",
            "        -0.08538876,  0.        ],\n",
            "       [ 0.15726083,  0.06948747, -0.00837528, ...,  0.        ,\n",
            "         0.1430727 ,  0.        ],\n",
            "       [ 0.10757883, -0.01569027,  0.00735115, ...,  0.        ,\n",
            "        -0.02950989,  0.        ],\n",
            "       ...,\n",
            "       [ 0.08909534,  0.01602747,  0.00822711, ...,  0.        ,\n",
            "        -0.00726133,  0.        ],\n",
            "       [ 0.32291754,  0.03751935,  0.12471482, ...,  0.        ,\n",
            "        -0.00081559,  0.        ],\n",
            "       [ 0.01497786,  0.05960591, -0.02015245, ...,  0.        ,\n",
            "         0.06753776,  0.        ]])]\n",
            "0.26523462215080984\n",
            "5th iteration is done\n",
            "processing on 1th iteration\n",
            "1th iteration is done\n",
            "processing on 2th iteration\n",
            "2th iteration is done\n",
            "processing on 3th iteration\n",
            "3th iteration is done\n",
            "processing on 4th iteration\n",
            "4th iteration is done\n",
            "processing on 5th iteration\n",
            "5th iteration is done\n",
            "processing on 6th iteration\n",
            "6th iteration is done\n",
            "processing on 7th iteration\n",
            "7th iteration is done\n",
            "processing on 8th iteration\n",
            "8th iteration is done\n",
            "processing on 9th iteration\n",
            "9th iteration is done\n",
            "processing on 10th iteration\n",
            "10th iteration is done\n",
            "final predict\n",
            "[array([[ 6.84261496e-01,  1.34000941e-01,  1.11220521e-01, ...,\n",
            "         0.00000000e+00, -8.26260534e-02,  0.00000000e+00],\n",
            "       [ 1.33247940e-01,  6.46522676e-02, -2.77066979e-02, ...,\n",
            "         0.00000000e+00,  1.48945158e-01,  0.00000000e+00],\n",
            "       [ 1.00338713e-01,  2.03576486e-02,  1.80158568e-03, ...,\n",
            "         0.00000000e+00, -3.65101812e-02,  0.00000000e+00],\n",
            "       ...,\n",
            "       [ 2.77942511e-02, -3.76245293e-02, -2.44775682e-02, ...,\n",
            "         0.00000000e+00, -2.72273602e-02,  0.00000000e+00],\n",
            "       [ 2.87067294e-01,  5.65233069e-02,  1.19820020e-01, ...,\n",
            "         0.00000000e+00,  2.34003391e-02,  0.00000000e+00],\n",
            "       [ 5.55508576e-05,  5.65953087e-02, -2.77115954e-02, ...,\n",
            "         0.00000000e+00,  5.46465893e-02,  0.00000000e+00]])]\n",
            "0.271588774958885\n",
            "6th iteration is done\n",
            "processing on 1th iteration\n",
            "1th iteration is done\n",
            "processing on 2th iteration\n",
            "2th iteration is done\n",
            "processing on 3th iteration\n",
            "3th iteration is done\n",
            "processing on 4th iteration\n",
            "4th iteration is done\n",
            "processing on 5th iteration\n",
            "5th iteration is done\n",
            "processing on 6th iteration\n",
            "6th iteration is done\n",
            "processing on 7th iteration\n",
            "7th iteration is done\n",
            "processing on 8th iteration\n",
            "8th iteration is done\n",
            "processing on 9th iteration\n",
            "9th iteration is done\n",
            "processing on 10th iteration\n",
            "10th iteration is done\n",
            "final predict\n",
            "[array([[ 0.69764822,  0.13759824,  0.10973497, ...,  0.        ,\n",
            "        -0.08110276,  0.        ],\n",
            "       [ 0.15000616,  0.09624854, -0.02010116, ...,  0.        ,\n",
            "         0.1531031 ,  0.        ],\n",
            "       [ 0.12900214, -0.01703485,  0.00789492, ...,  0.        ,\n",
            "        -0.00263375,  0.        ],\n",
            "       ...,\n",
            "       [ 0.03792763, -0.00607683, -0.01169397, ...,  0.        ,\n",
            "        -0.03456017,  0.        ],\n",
            "       [ 0.31330916,  0.02685723,  0.12698386, ...,  0.        ,\n",
            "         0.01361094,  0.        ],\n",
            "       [ 0.02901572,  0.10764796, -0.02009462, ...,  0.        ,\n",
            "         0.07906787,  0.        ]])]\n",
            "0.26874180343157866\n",
            "7th iteration is done\n",
            "processing on 1th iteration\n",
            "1th iteration is done\n",
            "processing on 2th iteration\n",
            "2th iteration is done\n",
            "processing on 3th iteration\n",
            "3th iteration is done\n",
            "processing on 4th iteration\n",
            "4th iteration is done\n",
            "processing on 5th iteration\n",
            "5th iteration is done\n",
            "processing on 6th iteration\n",
            "6th iteration is done\n",
            "processing on 7th iteration\n",
            "7th iteration is done\n",
            "processing on 8th iteration\n",
            "8th iteration is done\n",
            "processing on 9th iteration\n",
            "9th iteration is done\n",
            "processing on 10th iteration\n",
            "10th iteration is done\n",
            "final predict\n",
            "[array([[ 0.70499402,  0.10995808,  0.11216522, ...,  0.        ,\n",
            "        -0.08629997,  0.        ],\n",
            "       [ 0.15825351,  0.04895379, -0.01805008, ...,  0.        ,\n",
            "         0.15919447,  0.        ],\n",
            "       [ 0.11514001,  0.01449252,  0.01745249, ...,  0.        ,\n",
            "        -0.0038455 ,  0.        ],\n",
            "       ...,\n",
            "       [ 0.0215982 ,  0.0043164 , -0.01862046, ...,  0.        ,\n",
            "        -0.02091938,  0.        ],\n",
            "       [ 0.33301053,  0.03291275,  0.12639141, ...,  0.        ,\n",
            "         0.01570822,  0.        ],\n",
            "       [ 0.00761469,  0.06001917, -0.02032062, ...,  0.        ,\n",
            "         0.06718516,  0.        ]])]\n",
            "0.2679842968241854\n",
            "8th iteration is done\n",
            "processing on 1th iteration\n",
            "1th iteration is done\n",
            "processing on 2th iteration\n",
            "2th iteration is done\n",
            "processing on 3th iteration\n",
            "3th iteration is done\n",
            "processing on 4th iteration\n",
            "4th iteration is done\n",
            "processing on 5th iteration\n",
            "5th iteration is done\n",
            "processing on 6th iteration\n",
            "6th iteration is done\n",
            "processing on 7th iteration\n",
            "7th iteration is done\n",
            "processing on 8th iteration\n",
            "8th iteration is done\n",
            "processing on 9th iteration\n",
            "9th iteration is done\n",
            "processing on 10th iteration\n",
            "10th iteration is done\n",
            "final predict\n",
            "[array([[ 0.69865064,  0.1300139 ,  0.10487346, ...,  0.        ,\n",
            "        -0.07208438,  0.        ],\n",
            "       [ 0.16681477,  0.08563064, -0.01807829, ...,  0.        ,\n",
            "         0.15241264,  0.        ],\n",
            "       [ 0.12860953, -0.00978325, -0.01081536, ...,  0.        ,\n",
            "        -0.01467876,  0.        ],\n",
            "       ...,\n",
            "       [ 0.07071361, -0.00287884, -0.01597406, ...,  0.        ,\n",
            "        -0.00407798,  0.        ],\n",
            "       [ 0.36155571,  0.07041378,  0.11315112, ...,  0.        ,\n",
            "         0.03747152,  0.        ],\n",
            "       [ 0.0134869 ,  0.07942576, -0.02823205, ...,  0.        ,\n",
            "         0.07368709,  0.        ]])]\n",
            "0.268448852927668\n",
            "9th iteration is done\n",
            "processing on 1th iteration\n",
            "1th iteration is done\n",
            "processing on 2th iteration\n",
            "2th iteration is done\n",
            "processing on 3th iteration\n",
            "3th iteration is done\n",
            "processing on 4th iteration\n",
            "4th iteration is done\n",
            "processing on 5th iteration\n",
            "5th iteration is done\n",
            "processing on 6th iteration\n",
            "6th iteration is done\n",
            "processing on 7th iteration\n",
            "7th iteration is done\n",
            "processing on 8th iteration\n",
            "8th iteration is done\n",
            "processing on 9th iteration\n",
            "9th iteration is done\n",
            "processing on 10th iteration\n",
            "10th iteration is done\n",
            "final predict\n",
            "[array([[ 0.70464569,  0.11736666,  0.11423343, ...,  0.        ,\n",
            "        -0.08785157,  0.        ],\n",
            "       [ 0.14716569,  0.06479999, -0.02241895, ...,  0.        ,\n",
            "         0.16303316,  0.        ],\n",
            "       [ 0.13215675, -0.00597738, -0.00865862, ...,  0.        ,\n",
            "        -0.00256957,  0.        ],\n",
            "       ...,\n",
            "       [ 0.02725368, -0.01586029, -0.0285621 , ...,  0.        ,\n",
            "        -0.01004655,  0.        ],\n",
            "       [ 0.35054705,  0.04411746,  0.12277964, ...,  0.        ,\n",
            "         0.02492572,  0.        ],\n",
            "       [ 0.02150334,  0.05323539, -0.03544702, ...,  0.        ,\n",
            "         0.07445789,  0.        ]])]\n",
            "0.2680723733297802\n",
            "10th iteration is done\n"
          ]
        }
      ]
    },
    {
      "cell_type": "code",
      "source": [
        "print(rank_bar_factors)"
      ],
      "metadata": {
        "colab": {
          "base_uri": "https://localhost:8080/"
        },
        "id": "YnzddKOCj3I0",
        "outputId": "f38c8a1b-bb14-42f0-ccfb-d962fead7ebb"
      },
      "execution_count": null,
      "outputs": [
        {
          "output_type": "stream",
          "name": "stdout",
          "text": [
            "[0.1323974836227368, 0.21828247670752926, 0.25044777206322955, 0.2659941166772065, 0.26523462215080984, 0.271588774958885, 0.26874180343157866, 0.2679842968241854, 0.268448852927668, 0.2680723733297802]\n"
          ]
        }
      ]
    },
    {
      "cell_type": "markdown",
      "source": [
        "#### factor change graph"
      ],
      "metadata": {
        "id": "_7OEQx_Lqg2A"
      }
    },
    {
      "cell_type": "code",
      "source": [
        "x_axis = [i for i in range(20,201,20)]\n",
        "y_axis = rank_bar_factors\n",
        "plt.plot(x_axis, y_axis, marker='o')\n",
        "plt.xticks([i for i in range(20,201,20)])\n",
        "plt.xlabel(\"factors\")\n",
        "plt.title(\"expected percentile ranking\")\n",
        "plt.show()"
      ],
      "metadata": {
        "colab": {
          "base_uri": "https://localhost:8080/",
          "height": 472
        },
        "id": "Xeaz9L8FqS5G",
        "outputId": "bf309113-9985-4712-afc5-18493d0808ed"
      },
      "execution_count": null,
      "outputs": [
        {
          "output_type": "display_data",
          "data": {
            "text/plain": [
              "<Figure size 640x480 with 1 Axes>"
            ],
            "image/png": "[encoded data removed]"
          },
          "metadata": {}
        }
      ]
    },
    {
      "cell_type": "markdown",
      "source": [
        "#### loss function (n_factor=20)"
      ],
      "metadata": {
        "id": "hTPNu2RcqBZt"
      }
    },
    {
      "cell_type": "code",
      "source": [
        "# predict_errors\n",
        "x_axis = np.arange(1,11)\n",
        "y_axis = predict_errors_0\n",
        "plt.plot(x_axis, y_axis)\n",
        "plt.xticks([i for i in range(1,11)])\n",
        "plt.xlabel(\"iteration\")\n",
        "plt.title(\"predict error\")\n",
        "plt.show()"
      ],
      "metadata": {
        "colab": {
          "base_uri": "https://localhost:8080/",
          "height": 472
        },
        "outputId": "9efc6d83-4436-4894-aa37-a0533ad8e819",
        "id": "xy38YQaUqTlX"
      },
      "execution_count": null,
      "outputs": [
        {
          "output_type": "display_data",
          "data": {
            "text/plain": [
              "<Figure size 640x480 with 1 Axes>"
            ],
            "image/png": "[encoded data removed]"
          },
          "metadata": {}
        }
      ]
    },
    {
      "cell_type": "code",
      "source": [
        "# confident_errors\n",
        "x_axis = np.arange(1,11)\n",
        "y_axis = confident_errors_0\n",
        "plt.plot(x_axis, y_axis)\n",
        "plt.xticks([i for i in range(1,11)])\n",
        "plt.xlabel(\"iteration\")\n",
        "plt.title(\"confidence error\")\n",
        "plt.show()"
      ],
      "metadata": {
        "colab": {
          "base_uri": "https://localhost:8080/",
          "height": 472
        },
        "outputId": "9221d947-2a5d-4005-947e-b9365f594f10",
        "id": "IDnZEX-QqTlX"
      },
      "execution_count": null,
      "outputs": [
        {
          "output_type": "display_data",
          "data": {
            "text/plain": [
              "<Figure size 640x480 with 1 Axes>"
            ],
            "image/png": "[encoded data removed]"
          },
          "metadata": {}
        }
      ]
    },
    {
      "cell_type": "code",
      "source": [
        "# regularization_list\n",
        "x_axis = np.arange(1,11)\n",
        "y_axis = regularization_list_0\n",
        "plt.plot(x_axis, y_axis)\n",
        "plt.xticks([i for i in range(1,11)])\n",
        "plt.xlabel(\"iteration\")\n",
        "plt.title(\"regularization term\")\n",
        "plt.show()"
      ],
      "metadata": {
        "colab": {
          "base_uri": "https://localhost:8080/",
          "height": 472
        },
        "outputId": "4e4819a0-a153-4a0b-b5e1-14465b7cdc1c",
        "id": "6lh56i59qTlY"
      },
      "execution_count": null,
      "outputs": [
        {
          "output_type": "display_data",
          "data": {
            "text/plain": [
              "<Figure size 640x480 with 1 Axes>"
            ],
            "image/png": "[encoded data removed]"
          },
          "metadata": {}
        }
      ]
    },
    {
      "cell_type": "code",
      "source": [
        "# total_losses\n",
        "x_axis = np.arange(1,11)\n",
        "y_axis = total_losses_0\n",
        "plt.plot(x_axis, y_axis)\n",
        "plt.xticks([i for i in range(1,11)])\n",
        "plt.xlabel(\"iteration\")\n",
        "plt.title(\"total loss\")\n",
        "plt.show()"
      ],
      "metadata": {
        "colab": {
          "base_uri": "https://localhost:8080/",
          "height": 472
        },
        "outputId": "74da7c4a-400c-4c99-8171-255ec12e5325",
        "id": "-C-F1LQNqTlY"
      },
      "execution_count": null,
      "outputs": [
        {
          "output_type": "display_data",
          "data": {
            "text/plain": [
              "<Figure size 640x480 with 1 Axes>"
            ],
            "image/png": "[encoded data removed]"
          },
          "metadata": {}
        }
      ]
    },
    {
      "cell_type": "markdown",
      "source": [
        "### Experiment2: item-based collaborative filtering"
      ],
      "metadata": {
        "id": "dYRMSW94OhiM"
      }
    },
    {
      "cell_type": "code",
      "source": [
        "from sklearn.metrics.pairwise import cosine_similarity"
      ],
      "metadata": {
        "id": "tVY3bPE6PVNJ"
      },
      "execution_count": null,
      "outputs": []
    },
    {
      "cell_type": "code",
      "source": [
        "R_matrix = create_R_matrix(data, train_df)\n",
        "item_user_matrix = R_matrix.transpose()"
      ],
      "metadata": {
        "id": "uhIsMc2dLGRA"
      },
      "execution_count": null,
      "outputs": []
    },
    {
      "cell_type": "code",
      "source": [
        "similarity_rate = cosine_similarity(item_user_matrix, item_user_matrix)"
      ],
      "metadata": {
        "id": "2w1tpOvsPvZ6"
      },
      "execution_count": null,
      "outputs": []
    },
    {
      "cell_type": "code",
      "source": [
        "item_sim_df = pd.DataFrame(data=similarity_rate, index=R_matrix.columns, columns=R_matrix.columns)"
      ],
      "metadata": {
        "id": "r3tZEF-cQovP"
      },
      "execution_count": null,
      "outputs": []
    },
    {
      "cell_type": "code",
      "source": [
        "def predict_plays(plays_arr, item_sim_arr):\n",
        "  plays_pred = plays_arr.dot(item_sim_arr) / np.array([np.abs(item_sim_arr).sum(axis=1)])\n",
        "  return plays_pred"
      ],
      "metadata": {
        "id": "0G72ZHswRSzz"
      },
      "execution_count": null,
      "outputs": []
    },
    {
      "cell_type": "code",
      "source": [
        "plays_pred = predict_plays(R_matrix.values, item_sim_df.values)\n",
        "plays_pred_df = pd.DataFrame(data=plays_pred, index=R_matrix.index, columns=R_matrix.columns)"
      ],
      "metadata": {
        "id": "e1xYa533SQ43"
      },
      "execution_count": null,
      "outputs": []
    },
    {
      "cell_type": "code",
      "source": [
        "plays_pred_df.head()"
      ],
      "metadata": {
        "colab": {
          "base_uri": "https://localhost:8080/",
          "height": 438
        },
        "id": "KZwoQMKpTI6O",
        "outputId": "b0608d57-7ded-48a5-8f9d-c9e1a678a226"
      },
      "execution_count": null,
      "outputs": [
        {
          "output_type": "execute_result",
          "data": {
            "text/plain": [
              "         !!!  !t.o.o.h.!  (hed) p.e.  (hed) planet earth  *nsync  \\\n",
              "1  10.251038    0.076834    0.207561            0.546477     0.0   \n",
              "2   0.008879    0.000584    0.000000            0.000000     0.0   \n",
              "3   0.099944    0.000000    0.000000            0.000000     0.0   \n",
              "4   0.072334    0.749415    3.439008            0.036224     0.0   \n",
              "5   0.066419    0.426296    0.079813            0.000193     0.0   \n",
              "\n",
              "   ...and you will know us by the trail of dead  000 maniacs  1 giant leap  \\\n",
              "1                                      2.115857          NaN      0.000000   \n",
              "2                                      0.005056          NaN      0.357445   \n",
              "3                                      0.054045          NaN      0.000000   \n",
              "4                                      1.887687          NaN      0.000000   \n",
              "5                                      0.000000          NaN      0.000000   \n",
              "\n",
              "   10,000 maniacs  100 flowers  ...  Веня Д'ркин      Кино  Кошкин Дом  \\\n",
              "1        0.617304     0.133228  ...     2.144262  3.500043    2.144262   \n",
              "2        0.016385     0.000000  ...     0.030810  0.583479    0.030810   \n",
              "3        0.006064     0.000000  ...     0.000000  0.089291    0.000000   \n",
              "4        0.184490     4.291952  ...    12.691431  0.892071   12.691431   \n",
              "5        0.009528     1.039258  ...     0.000000  2.169040    0.000000   \n",
              "\n",
              "     Макsим  Мельница  СБПЧ Оркестр  Юрий Визбор  周杰倫      坂本龍一  武満徹  \n",
              "1  0.013843  0.204349           NaN     0.732377  NaN  0.000000  NaN  \n",
              "2  0.007637  0.000000           NaN     0.000771  NaN  0.116302  NaN  \n",
              "3  0.027878  0.000000           NaN     0.000000  NaN  0.000000  NaN  \n",
              "4  0.000000  0.055369           NaN     0.889712  NaN  0.000000  NaN  \n",
              "5  0.455155  1.122780           NaN     0.000000  NaN  0.000000  NaN  \n",
              "\n",
              "[5 rows x 7257 columns]"
            ],
            "text/html": [
              "\n",
              "  <div id=\"df-1b2ebdf1-3919-4ff7-bdc7-f8d69923170b\">\n",
              "    <div class=\"colab-df-container\">\n",
              "      <div>\n",
              "<style scoped>\n",
              "    .dataframe tbody tr th:only-of-type {\n",
              "        vertical-align: middle;\n",
              "    }\n",
              "\n",
              "    .dataframe tbody tr th {\n",
              "        vertical-align: top;\n",
              "    }\n",
              "\n",
              "    .dataframe thead th {\n",
              "        text-align: right;\n",
              "    }\n",
              "</style>\n",
              "<table border=\"1\" class=\"dataframe\">\n",
              "  <thead>\n",
              "    <tr style=\"text-align: right;\">\n",
              "      <th></th>\n",
              "      <th>!!!</th>\n",
              "      <th>!t.o.o.h.!</th>\n",
              "      <th>(hed) p.e.</th>\n",
              "      <th>(hed) planet earth</th>\n",
              "      <th>*nsync</th>\n",
              "      <th>...and you will know us by the trail of dead</th>\n",
              "      <th>000 maniacs</th>\n",
              "      <th>1 giant leap</th>\n",
              "      <th>10,000 maniacs</th>\n",
              "      <th>100 flowers</th>\n",
              "      <th>...</th>\n",
              "      <th>Веня Д'ркин</th>\n",
              "      <th>Кино</th>\n",
              "      <th>Кошкин Дом</th>\n",
              "      <th>Макsим</th>\n",
              "      <th>Мельница</th>\n",
              "      <th>СБПЧ Оркестр</th>\n",
              "      <th>Юрий Визбор</th>\n",
              "      <th>周杰倫</th>\n",
              "      <th>坂本龍一</th>\n",
              "      <th>武満徹</th>\n",
              "    </tr>\n",
              "  </thead>\n",
              "  <tbody>\n",
              "    <tr>\n",
              "      <th>1</th>\n",
              "      <td>10.251038</td>\n",
              "      <td>0.076834</td>\n",
              "      <td>0.207561</td>\n",
              "      <td>0.546477</td>\n",
              "      <td>0.0</td>\n",
              "      <td>2.115857</td>\n",
              "      <td>NaN</td>\n",
              "      <td>0.000000</td>\n",
              "      <td>0.617304</td>\n",
              "      <td>0.133228</td>\n",
              "      <td>...</td>\n",
              "      <td>2.144262</td>\n",
              "      <td>3.500043</td>\n",
              "      <td>2.144262</td>\n",
              "      <td>0.013843</td>\n",
              "      <td>0.204349</td>\n",
              "      <td>NaN</td>\n",
              "      <td>0.732377</td>\n",
              "      <td>NaN</td>\n",
              "      <td>0.000000</td>\n",
              "      <td>NaN</td>\n",
              "    </tr>\n",
              "    <tr>\n",
              "      <th>2</th>\n",
              "      <td>0.008879</td>\n",
              "      <td>0.000584</td>\n",
              "      <td>0.000000</td>\n",
              "      <td>0.000000</td>\n",
              "      <td>0.0</td>\n",
              "      <td>0.005056</td>\n",
              "      <td>NaN</td>\n",
              "      <td>0.357445</td>\n",
              "      <td>0.016385</td>\n",
              "      <td>0.000000</td>\n",
              "      <td>...</td>\n",
              "      <td>0.030810</td>\n",
              "      <td>0.583479</td>\n",
              "      <td>0.030810</td>\n",
              "      <td>0.007637</td>\n",
              "      <td>0.000000</td>\n",
              "      <td>NaN</td>\n",
              "      <td>0.000771</td>\n",
              "      <td>NaN</td>\n",
              "      <td>0.116302</td>\n",
              "      <td>NaN</td>\n",
              "    </tr>\n",
              "    <tr>\n",
              "      <th>3</th>\n",
              "      <td>0.099944</td>\n",
              "      <td>0.000000</td>\n",
              "      <td>0.000000</td>\n",
              "      <td>0.000000</td>\n",
              "      <td>0.0</td>\n",
              "      <td>0.054045</td>\n",
              "      <td>NaN</td>\n",
              "      <td>0.000000</td>\n",
              "      <td>0.006064</td>\n",
              "      <td>0.000000</td>\n",
              "      <td>...</td>\n",
              "      <td>0.000000</td>\n",
              "      <td>0.089291</td>\n",
              "      <td>0.000000</td>\n",
              "      <td>0.027878</td>\n",
              "      <td>0.000000</td>\n",
              "      <td>NaN</td>\n",
              "      <td>0.000000</td>\n",
              "      <td>NaN</td>\n",
              "      <td>0.000000</td>\n",
              "      <td>NaN</td>\n",
              "    </tr>\n",
              "    <tr>\n",
              "      <th>4</th>\n",
              "      <td>0.072334</td>\n",
              "      <td>0.749415</td>\n",
              "      <td>3.439008</td>\n",
              "      <td>0.036224</td>\n",
              "      <td>0.0</td>\n",
              "      <td>1.887687</td>\n",
              "      <td>NaN</td>\n",
              "      <td>0.000000</td>\n",
              "      <td>0.184490</td>\n",
              "      <td>4.291952</td>\n",
              "      <td>...</td>\n",
              "      <td>12.691431</td>\n",
              "      <td>0.892071</td>\n",
              "      <td>12.691431</td>\n",
              "      <td>0.000000</td>\n",
              "      <td>0.055369</td>\n",
              "      <td>NaN</td>\n",
              "      <td>0.889712</td>\n",
              "      <td>NaN</td>\n",
              "      <td>0.000000</td>\n",
              "      <td>NaN</td>\n",
              "    </tr>\n",
              "    <tr>\n",
              "      <th>5</th>\n",
              "      <td>0.066419</td>\n",
              "      <td>0.426296</td>\n",
              "      <td>0.079813</td>\n",
              "      <td>0.000193</td>\n",
              "      <td>0.0</td>\n",
              "      <td>0.000000</td>\n",
              "      <td>NaN</td>\n",
              "      <td>0.000000</td>\n",
              "      <td>0.009528</td>\n",
              "      <td>1.039258</td>\n",
              "      <td>...</td>\n",
              "      <td>0.000000</td>\n",
              "      <td>2.169040</td>\n",
              "      <td>0.000000</td>\n",
              "      <td>0.455155</td>\n",
              "      <td>1.122780</td>\n",
              "      <td>NaN</td>\n",
              "      <td>0.000000</td>\n",
              "      <td>NaN</td>\n",
              "      <td>0.000000</td>\n",
              "      <td>NaN</td>\n",
              "    </tr>\n",
              "  </tbody>\n",
              "</table>\n",
              "<p>5 rows × 7257 columns</p>\n",
              "</div>\n",
              "      <button class=\"colab-df-convert\" onclick=\"convertToInteractive('df-1b2ebdf1-3919-4ff7-bdc7-f8d69923170b')\"\n",
              "              title=\"Convert this dataframe to an interactive table.\"\n",
              "              style=\"display:none;\">\n",
              "        \n",
              "  <svg xmlns=\"http://www.w3.org/2000/svg\" height=\"24px\"viewBox=\"0 0 24 24\"\n",
              "       width=\"24px\">\n",
              "    <path d=\"M0 0h24v24H0V0z\" fill=\"none\"/>\n",
              "    <path d=\"M18.56 5.44l.94 2.06.94-2.06 2.06-.94-2.06-.94-.94-2.06-.94 2.06-2.06.94zm-11 1L8.5 8.5l.94-2.06 2.06-.94-2.06-.94L8.5 2.5l-.94 2.06-2.06.94zm10 10l.94 2.06.94-2.06 2.06-.94-2.06-.94-.94-2.06-.94 2.06-2.06.94z\"/><path d=\"M17.41 7.96l-1.37-1.37c-.4-.4-.92-.59-1.43-.59-.52 0-1.04.2-1.43.59L10.3 9.45l-7.72 7.72c-.78.78-.78 2.05 0 2.83L4 21.41c.39.39.9.59 1.41.59.51 0 1.02-.2 1.41-.59l7.78-7.78 2.81-2.81c.8-.78.8-2.07 0-2.86zM5.41 20L4 18.59l7.72-7.72 1.47 1.35L5.41 20z\"/>\n",
              "  </svg>\n",
              "      </button>\n",
              "      \n",
              "  <style>\n",
              "    .colab-df-container {\n",
              "      display:flex;\n",
              "      flex-wrap:wrap;\n",
              "      gap: 12px;\n",
              "    }\n",
              "\n",
              "    .colab-df-convert {\n",
              "      background-color: #E8F0FE;\n",
              "      border: none;\n",
              "      border-radius: 50%;\n",
              "      cursor: pointer;\n",
              "      display: none;\n",
              "      fill: #1967D2;\n",
              "      height: 32px;\n",
              "      padding: 0 0 0 0;\n",
              "      width: 32px;\n",
              "    }\n",
              "\n",
              "    .colab-df-convert:hover {\n",
              "      background-color: #E2EBFA;\n",
              "      box-shadow: 0px 1px 2px rgba(60, 64, 67, 0.3), 0px 1px 3px 1px rgba(60, 64, 67, 0.15);\n",
              "      fill: #174EA6;\n",
              "    }\n",
              "\n",
              "    [theme=dark] .colab-df-convert {\n",
              "      background-color: #3B4455;\n",
              "      fill: #D2E3FC;\n",
              "    }\n",
              "\n",
              "    [theme=dark] .colab-df-convert:hover {\n",
              "      background-color: #434B5C;\n",
              "      box-shadow: 0px 1px 3px 1px rgba(0, 0, 0, 0.15);\n",
              "      filter: drop-shadow(0px 1px 2px rgba(0, 0, 0, 0.3));\n",
              "      fill: #FFFFFF;\n",
              "    }\n",
              "  </style>\n",
              "\n",
              "      <script>\n",
              "        const buttonEl =\n",
              "          document.querySelector('#df-1b2ebdf1-3919-4ff7-bdc7-f8d69923170b button.colab-df-convert');\n",
              "        buttonEl.style.display =\n",
              "          google.colab.kernel.accessAllowed ? 'block' : 'none';\n",
              "\n",
              "        async function convertToInteractive(key) {\n",
              "          const element = document.querySelector('#df-1b2ebdf1-3919-4ff7-bdc7-f8d69923170b');\n",
              "          const dataTable =\n",
              "            await google.colab.kernel.invokeFunction('convertToInteractive',\n",
              "                                                     [key], {});\n",
              "          if (!dataTable) return;\n",
              "\n",
              "          const docLinkHtml = 'Like what you see? Visit the ' +\n",
              "            '<a target=\"_blank\" href=https://colab.research.google.com/notebooks/data_table.ipynb>data table notebook</a>'\n",
              "            + ' to learn more about interactive tables.';\n",
              "          element.innerHTML = '';\n",
              "          dataTable['output_type'] = 'display_data';\n",
              "          await google.colab.output.renderOutput(dataTable, element);\n",
              "          const docLink = document.createElement('div');\n",
              "          docLink.innerHTML = docLinkHtml;\n",
              "          element.appendChild(docLink);\n",
              "        }\n",
              "      </script>\n",
              "    </div>\n",
              "  </div>\n",
              "  "
            ]
          },
          "metadata": {},
          "execution_count": 36
        }
      ]
    },
    {
      "cell_type": "code",
      "source": [
        "rank_bar_item_neighbor = calculate_rank(plays_pred_df, R_matrix, train_df, test_df)"
      ],
      "metadata": {
        "colab": {
          "base_uri": "https://localhost:8080/"
        },
        "id": "qaYBkm1mTMt8",
        "outputId": "ef69b82d-1571-4fe1-f1ef-9aba8ebc8819"
      },
      "execution_count": null,
      "outputs": [
        {
          "output_type": "stream",
          "name": "stdout",
          "text": [
            "0.7252196318914802\n"
          ]
        }
      ]
    },
    {
      "cell_type": "markdown",
      "source": [
        "topN-item based CF"
      ],
      "metadata": {
        "id": "m_CoRihalm3n"
      }
    },
    {
      "cell_type": "code",
      "source": [
        "def predict_plays_topsim(plays_arr, item_sim_arr, n=20):\n",
        "  pred = np.zeros(plays_arr.shape)\n",
        "  for col in range(plays_arr.shape[1]):\n",
        "    top_n_items = [np.argsort(item_sim_arr[:, col])[:-n-1:-1]]\n",
        "    for row in range(plays_arr.shape[0]):\n",
        "      pred[row, col] = item_sim_arr[col,:][top_n_items].dot(\n",
        "          plays_arr[row,:][top_n_items].T)\n",
        "      pred[row,col] /= np.sum(item_sim_arr[col,:][top_n_items])\n",
        "  return pred"
      ],
      "metadata": {
        "id": "KYUXYbWLkZNw"
      },
      "execution_count": null,
      "outputs": []
    },
    {
      "cell_type": "code",
      "source": [
        "plays_pred_topN = predict_plays_topsim(R_matrix.values, item_sim_df.values, n=10)"
      ],
      "metadata": {
        "id": "vRwTq4h2m0wQ"
      },
      "execution_count": null,
      "outputs": []
    },
    {
      "cell_type": "code",
      "source": [
        "plays_pred_topN_df = pd.DataFrame(data=plays_pred_topN, index=R_matrix.index, columns=R_matrix.columns)"
      ],
      "metadata": {
        "id": "3nVRPaqJnCqa"
      },
      "execution_count": null,
      "outputs": []
    },
    {
      "cell_type": "code",
      "source": [
        "plays_pred_topN_df.head()"
      ],
      "metadata": {
        "colab": {
          "base_uri": "https://localhost:8080/",
          "height": 438
        },
        "id": "2jYL8W7joXge",
        "outputId": "f0fa228c-629c-4780-d5e2-6700277666a5"
      },
      "execution_count": null,
      "outputs": [
        {
          "output_type": "execute_result",
          "data": {
            "text/plain": [
              "   !!!  !t.o.o.h.!  (hed) p.e.  (hed) planet earth  *nsync  \\\n",
              "1  0.0         0.0         0.0                 0.0     0.0   \n",
              "2  0.0         0.0         0.0                 0.0     0.0   \n",
              "3  0.0         0.0         0.0                 0.0     0.0   \n",
              "4  0.0         0.0         0.0                 0.0     0.0   \n",
              "5  0.0         0.0         0.0                 0.0     0.0   \n",
              "\n",
              "   ...and you will know us by the trail of dead  000 maniacs  1 giant leap  \\\n",
              "1                                           0.0          NaN           0.0   \n",
              "2                                           0.0          NaN           0.0   \n",
              "3                                           0.0          NaN           0.0   \n",
              "4                                           0.0          NaN           0.0   \n",
              "5                                           0.0          NaN           0.0   \n",
              "\n",
              "   10,000 maniacs  100 flowers  ...  Веня Д'ркин  Кино  Кошкин Дом  Макsим  \\\n",
              "1             0.0          0.0  ...          0.0   0.0         0.0     0.0   \n",
              "2             0.0          0.0  ...          0.0   0.0         0.0     0.0   \n",
              "3             0.0          0.0  ...          0.0   0.0         0.0     0.0   \n",
              "4             0.0          0.0  ...          0.0   0.0         0.0     0.0   \n",
              "5             0.0          0.0  ...          0.0   0.0         0.0     0.0   \n",
              "\n",
              "   Мельница  СБПЧ Оркестр  Юрий Визбор  周杰倫  坂本龍一  武満徹  \n",
              "1       0.0           NaN          0.0  NaN   0.0  NaN  \n",
              "2       0.0           NaN          0.0  NaN   0.0  NaN  \n",
              "3       0.0           NaN          0.0  NaN   0.0  NaN  \n",
              "4       0.0           NaN          0.0  NaN   0.0  NaN  \n",
              "5       0.0           NaN          0.0  NaN   0.0  NaN  \n",
              "\n",
              "[5 rows x 7257 columns]"
            ],
            "text/html": [
              "\n",
              "  <div id=\"df-477c293c-051b-4fbc-a5c5-e1c24d1b4b00\">\n",
              "    <div class=\"colab-df-container\">\n",
              "      <div>\n",
              "<style scoped>\n",
              "    .dataframe tbody tr th:only-of-type {\n",
              "        vertical-align: middle;\n",
              "    }\n",
              "\n",
              "    .dataframe tbody tr th {\n",
              "        vertical-align: top;\n",
              "    }\n",
              "\n",
              "    .dataframe thead th {\n",
              "        text-align: right;\n",
              "    }\n",
              "</style>\n",
              "<table border=\"1\" class=\"dataframe\">\n",
              "  <thead>\n",
              "    <tr style=\"text-align: right;\">\n",
              "      <th></th>\n",
              "      <th>!!!</th>\n",
              "      <th>!t.o.o.h.!</th>\n",
              "      <th>(hed) p.e.</th>\n",
              "      <th>(hed) planet earth</th>\n",
              "      <th>*nsync</th>\n",
              "      <th>...and you will know us by the trail of dead</th>\n",
              "      <th>000 maniacs</th>\n",
              "      <th>1 giant leap</th>\n",
              "      <th>10,000 maniacs</th>\n",
              "      <th>100 flowers</th>\n",
              "      <th>...</th>\n",
              "      <th>Веня Д'ркин</th>\n",
              "      <th>Кино</th>\n",
              "      <th>Кошкин Дом</th>\n",
              "      <th>Макsим</th>\n",
              "      <th>Мельница</th>\n",
              "      <th>СБПЧ Оркестр</th>\n",
              "      <th>Юрий Визбор</th>\n",
              "      <th>周杰倫</th>\n",
              "      <th>坂本龍一</th>\n",
              "      <th>武満徹</th>\n",
              "    </tr>\n",
              "  </thead>\n",
              "  <tbody>\n",
              "    <tr>\n",
              "      <th>1</th>\n",
              "      <td>0.0</td>\n",
              "      <td>0.0</td>\n",
              "      <td>0.0</td>\n",
              "      <td>0.0</td>\n",
              "      <td>0.0</td>\n",
              "      <td>0.0</td>\n",
              "      <td>NaN</td>\n",
              "      <td>0.0</td>\n",
              "      <td>0.0</td>\n",
              "      <td>0.0</td>\n",
              "      <td>...</td>\n",
              "      <td>0.0</td>\n",
              "      <td>0.0</td>\n",
              "      <td>0.0</td>\n",
              "      <td>0.0</td>\n",
              "      <td>0.0</td>\n",
              "      <td>NaN</td>\n",
              "      <td>0.0</td>\n",
              "      <td>NaN</td>\n",
              "      <td>0.0</td>\n",
              "      <td>NaN</td>\n",
              "    </tr>\n",
              "    <tr>\n",
              "      <th>2</th>\n",
              "      <td>0.0</td>\n",
              "      <td>0.0</td>\n",
              "      <td>0.0</td>\n",
              "      <td>0.0</td>\n",
              "      <td>0.0</td>\n",
              "      <td>0.0</td>\n",
              "      <td>NaN</td>\n",
              "      <td>0.0</td>\n",
              "      <td>0.0</td>\n",
              "      <td>0.0</td>\n",
              "      <td>...</td>\n",
              "      <td>0.0</td>\n",
              "      <td>0.0</td>\n",
              "      <td>0.0</td>\n",
              "      <td>0.0</td>\n",
              "      <td>0.0</td>\n",
              "      <td>NaN</td>\n",
              "      <td>0.0</td>\n",
              "      <td>NaN</td>\n",
              "      <td>0.0</td>\n",
              "      <td>NaN</td>\n",
              "    </tr>\n",
              "    <tr>\n",
              "      <th>3</th>\n",
              "      <td>0.0</td>\n",
              "      <td>0.0</td>\n",
              "      <td>0.0</td>\n",
              "      <td>0.0</td>\n",
              "      <td>0.0</td>\n",
              "      <td>0.0</td>\n",
              "      <td>NaN</td>\n",
              "      <td>0.0</td>\n",
              "      <td>0.0</td>\n",
              "      <td>0.0</td>\n",
              "      <td>...</td>\n",
              "      <td>0.0</td>\n",
              "      <td>0.0</td>\n",
              "      <td>0.0</td>\n",
              "      <td>0.0</td>\n",
              "      <td>0.0</td>\n",
              "      <td>NaN</td>\n",
              "      <td>0.0</td>\n",
              "      <td>NaN</td>\n",
              "      <td>0.0</td>\n",
              "      <td>NaN</td>\n",
              "    </tr>\n",
              "    <tr>\n",
              "      <th>4</th>\n",
              "      <td>0.0</td>\n",
              "      <td>0.0</td>\n",
              "      <td>0.0</td>\n",
              "      <td>0.0</td>\n",
              "      <td>0.0</td>\n",
              "      <td>0.0</td>\n",
              "      <td>NaN</td>\n",
              "      <td>0.0</td>\n",
              "      <td>0.0</td>\n",
              "      <td>0.0</td>\n",
              "      <td>...</td>\n",
              "      <td>0.0</td>\n",
              "      <td>0.0</td>\n",
              "      <td>0.0</td>\n",
              "      <td>0.0</td>\n",
              "      <td>0.0</td>\n",
              "      <td>NaN</td>\n",
              "      <td>0.0</td>\n",
              "      <td>NaN</td>\n",
              "      <td>0.0</td>\n",
              "      <td>NaN</td>\n",
              "    </tr>\n",
              "    <tr>\n",
              "      <th>5</th>\n",
              "      <td>0.0</td>\n",
              "      <td>0.0</td>\n",
              "      <td>0.0</td>\n",
              "      <td>0.0</td>\n",
              "      <td>0.0</td>\n",
              "      <td>0.0</td>\n",
              "      <td>NaN</td>\n",
              "      <td>0.0</td>\n",
              "      <td>0.0</td>\n",
              "      <td>0.0</td>\n",
              "      <td>...</td>\n",
              "      <td>0.0</td>\n",
              "      <td>0.0</td>\n",
              "      <td>0.0</td>\n",
              "      <td>0.0</td>\n",
              "      <td>0.0</td>\n",
              "      <td>NaN</td>\n",
              "      <td>0.0</td>\n",
              "      <td>NaN</td>\n",
              "      <td>0.0</td>\n",
              "      <td>NaN</td>\n",
              "    </tr>\n",
              "  </tbody>\n",
              "</table>\n",
              "<p>5 rows × 7257 columns</p>\n",
              "</div>\n",
              "      <button class=\"colab-df-convert\" onclick=\"convertToInteractive('df-477c293c-051b-4fbc-a5c5-e1c24d1b4b00')\"\n",
              "              title=\"Convert this dataframe to an interactive table.\"\n",
              "              style=\"display:none;\">\n",
              "        \n",
              "  <svg xmlns=\"http://www.w3.org/2000/svg\" height=\"24px\"viewBox=\"0 0 24 24\"\n",
              "       width=\"24px\">\n",
              "    <path d=\"M0 0h24v24H0V0z\" fill=\"none\"/>\n",
              "    <path d=\"M18.56 5.44l.94 2.06.94-2.06 2.06-.94-2.06-.94-.94-2.06-.94 2.06-2.06.94zm-11 1L8.5 8.5l.94-2.06 2.06-.94-2.06-.94L8.5 2.5l-.94 2.06-2.06.94zm10 10l.94 2.06.94-2.06 2.06-.94-2.06-.94-.94-2.06-.94 2.06-2.06.94z\"/><path d=\"M17.41 7.96l-1.37-1.37c-.4-.4-.92-.59-1.43-.59-.52 0-1.04.2-1.43.59L10.3 9.45l-7.72 7.72c-.78.78-.78 2.05 0 2.83L4 21.41c.39.39.9.59 1.41.59.51 0 1.02-.2 1.41-.59l7.78-7.78 2.81-2.81c.8-.78.8-2.07 0-2.86zM5.41 20L4 18.59l7.72-7.72 1.47 1.35L5.41 20z\"/>\n",
              "  </svg>\n",
              "      </button>\n",
              "      \n",
              "  <style>\n",
              "    .colab-df-container {\n",
              "      display:flex;\n",
              "      flex-wrap:wrap;\n",
              "      gap: 12px;\n",
              "    }\n",
              "\n",
              "    .colab-df-convert {\n",
              "      background-color: #E8F0FE;\n",
              "      border: none;\n",
              "      border-radius: 50%;\n",
              "      cursor: pointer;\n",
              "      display: none;\n",
              "      fill: #1967D2;\n",
              "      height: 32px;\n",
              "      padding: 0 0 0 0;\n",
              "      width: 32px;\n",
              "    }\n",
              "\n",
              "    .colab-df-convert:hover {\n",
              "      background-color: #E2EBFA;\n",
              "      box-shadow: 0px 1px 2px rgba(60, 64, 67, 0.3), 0px 1px 3px 1px rgba(60, 64, 67, 0.15);\n",
              "      fill: #174EA6;\n",
              "    }\n",
              "\n",
              "    [theme=dark] .colab-df-convert {\n",
              "      background-color: #3B4455;\n",
              "      fill: #D2E3FC;\n",
              "    }\n",
              "\n",
              "    [theme=dark] .colab-df-convert:hover {\n",
              "      background-color: #434B5C;\n",
              "      box-shadow: 0px 1px 3px 1px rgba(0, 0, 0, 0.15);\n",
              "      filter: drop-shadow(0px 1px 2px rgba(0, 0, 0, 0.3));\n",
              "      fill: #FFFFFF;\n",
              "    }\n",
              "  </style>\n",
              "\n",
              "      <script>\n",
              "        const buttonEl =\n",
              "          document.querySelector('#df-477c293c-051b-4fbc-a5c5-e1c24d1b4b00 button.colab-df-convert');\n",
              "        buttonEl.style.display =\n",
              "          google.colab.kernel.accessAllowed ? 'block' : 'none';\n",
              "\n",
              "        async function convertToInteractive(key) {\n",
              "          const element = document.querySelector('#df-477c293c-051b-4fbc-a5c5-e1c24d1b4b00');\n",
              "          const dataTable =\n",
              "            await google.colab.kernel.invokeFunction('convertToInteractive',\n",
              "                                                     [key], {});\n",
              "          if (!dataTable) return;\n",
              "\n",
              "          const docLinkHtml = 'Like what you see? Visit the ' +\n",
              "            '<a target=\"_blank\" href=https://colab.research.google.com/notebooks/data_table.ipynb>data table notebook</a>'\n",
              "            + ' to learn more about interactive tables.';\n",
              "          element.innerHTML = '';\n",
              "          dataTable['output_type'] = 'display_data';\n",
              "          await google.colab.output.renderOutput(dataTable, element);\n",
              "          const docLink = document.createElement('div');\n",
              "          docLink.innerHTML = docLinkHtml;\n",
              "          element.appendChild(docLink);\n",
              "        }\n",
              "      </script>\n",
              "    </div>\n",
              "  </div>\n",
              "  "
            ]
          },
          "metadata": {},
          "execution_count": 45
        }
      ]
    },
    {
      "cell_type": "code",
      "source": [
        "rank_bar_item_neighbor_topN = calculate_rank(plays_pred_topN_df, R_matrix, train_df, test_df)"
      ],
      "metadata": {
        "colab": {
          "base_uri": "https://localhost:8080/"
        },
        "id": "f-hYPH1DoaEQ",
        "outputId": "74ee289a-7232-4e50-ce77-b5fc28590bc3"
      },
      "execution_count": null,
      "outputs": [
        {
          "output_type": "stream",
          "name": "stdout",
          "text": [
            "0.724383532032827\n"
          ]
        }
      ]
    },
    {
      "cell_type": "code",
      "source": [],
      "metadata": {
        "id": "HfgslJh9opZ6"
      },
      "execution_count": null,
      "outputs": []
    }
  ]
}
